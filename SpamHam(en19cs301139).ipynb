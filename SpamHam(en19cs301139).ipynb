{
 "cells": [
  {
   "cell_type": "code",
   "execution_count": 1,
   "metadata": {},
   "outputs": [],
   "source": [
    "import pandas as pd\n",
    "from matplotlib import pyplot as plt \n",
    "%matplotlib inline"
   ]
  },
  {
   "cell_type": "code",
   "execution_count": 2,
   "metadata": {},
   "outputs": [
    {
     "data": {
      "text/html": [
       "<div>\n",
       "<style scoped>\n",
       "    .dataframe tbody tr th:only-of-type {\n",
       "        vertical-align: middle;\n",
       "    }\n",
       "\n",
       "    .dataframe tbody tr th {\n",
       "        vertical-align: top;\n",
       "    }\n",
       "\n",
       "    .dataframe thead th {\n",
       "        text-align: right;\n",
       "    }\n",
       "</style>\n",
       "<table border=\"1\" class=\"dataframe\">\n",
       "  <thead>\n",
       "    <tr style=\"text-align: right;\">\n",
       "      <th></th>\n",
       "      <th>Unnamed: 0</th>\n",
       "      <th>label</th>\n",
       "      <th>message</th>\n",
       "    </tr>\n",
       "  </thead>\n",
       "  <tbody>\n",
       "    <tr>\n",
       "      <th>0</th>\n",
       "      <td>C:/Users/MSI PC/lingspam_public/bare\\part1\\3-1...</td>\n",
       "      <td>ham</td>\n",
       "      <td>&gt; date : sun , 15 dec 91 02 : 25 : 02 est &gt; fr...</td>\n",
       "    </tr>\n",
       "    <tr>\n",
       "      <th>1</th>\n",
       "      <td>C:/Users/MSI PC/lingspam_public/bare\\part1\\3-1...</td>\n",
       "      <td>ham</td>\n",
       "      <td>the discussion of s - &gt; np + np reminds me tha...</td>\n",
       "    </tr>\n",
       "    <tr>\n",
       "      <th>2</th>\n",
       "      <td>C:/Users/MSI PC/lingspam_public/bare\\part1\\3-1...</td>\n",
       "      <td>ham</td>\n",
       "      <td>. . . for me it 's much more restrictive than ...</td>\n",
       "    </tr>\n",
       "    <tr>\n",
       "      <th>3</th>\n",
       "      <td>C:/Users/MSI PC/lingspam_public/bare\\part1\\3-3...</td>\n",
       "      <td>ham</td>\n",
       "      <td>\" for the listserv \" international conference ...</td>\n",
       "    </tr>\n",
       "    <tr>\n",
       "      <th>4</th>\n",
       "      <td>C:/Users/MSI PC/lingspam_public/bare\\part1\\3-3...</td>\n",
       "      <td>ham</td>\n",
       "      <td>could anyone point me to any books and article...</td>\n",
       "    </tr>\n",
       "  </tbody>\n",
       "</table>\n",
       "</div>"
      ],
      "text/plain": [
       "                                          Unnamed: 0 label  \\\n",
       "0  C:/Users/MSI PC/lingspam_public/bare\\part1\\3-1...   ham   \n",
       "1  C:/Users/MSI PC/lingspam_public/bare\\part1\\3-1...   ham   \n",
       "2  C:/Users/MSI PC/lingspam_public/bare\\part1\\3-1...   ham   \n",
       "3  C:/Users/MSI PC/lingspam_public/bare\\part1\\3-3...   ham   \n",
       "4  C:/Users/MSI PC/lingspam_public/bare\\part1\\3-3...   ham   \n",
       "\n",
       "                                             message  \n",
       "0  > date : sun , 15 dec 91 02 : 25 : 02 est > fr...  \n",
       "1  the discussion of s - > np + np reminds me tha...  \n",
       "2  . . . for me it 's much more restrictive than ...  \n",
       "3  \" for the listserv \" international conference ...  \n",
       "4  could anyone point me to any books and article...  "
      ]
     },
     "execution_count": 2,
     "metadata": {},
     "output_type": "execute_result"
    }
   ],
   "source": [
    "df=pd.read_csv(r'C:\\Users\\HP\\Desktop\\Question2.csv')\n",
    "df.head()"
   ]
  },
  {
   "cell_type": "code",
   "execution_count": 3,
   "metadata": {},
   "outputs": [
    {
     "data": {
      "text/html": [
       "<div>\n",
       "<style scoped>\n",
       "    .dataframe tbody tr th:only-of-type {\n",
       "        vertical-align: middle;\n",
       "    }\n",
       "\n",
       "    .dataframe tbody tr th {\n",
       "        vertical-align: top;\n",
       "    }\n",
       "\n",
       "    .dataframe thead tr th {\n",
       "        text-align: left;\n",
       "    }\n",
       "\n",
       "    .dataframe thead tr:last-of-type th {\n",
       "        text-align: right;\n",
       "    }\n",
       "</style>\n",
       "<table border=\"1\" class=\"dataframe\">\n",
       "  <thead>\n",
       "    <tr>\n",
       "      <th></th>\n",
       "      <th colspan=\"4\" halign=\"left\">Unnamed: 0</th>\n",
       "      <th colspan=\"4\" halign=\"left\">message</th>\n",
       "    </tr>\n",
       "    <tr>\n",
       "      <th></th>\n",
       "      <th>count</th>\n",
       "      <th>unique</th>\n",
       "      <th>top</th>\n",
       "      <th>freq</th>\n",
       "      <th>count</th>\n",
       "      <th>unique</th>\n",
       "      <th>top</th>\n",
       "      <th>freq</th>\n",
       "    </tr>\n",
       "    <tr>\n",
       "      <th>label</th>\n",
       "      <th></th>\n",
       "      <th></th>\n",
       "      <th></th>\n",
       "      <th></th>\n",
       "      <th></th>\n",
       "      <th></th>\n",
       "      <th></th>\n",
       "      <th></th>\n",
       "    </tr>\n",
       "  </thead>\n",
       "  <tbody>\n",
       "    <tr>\n",
       "      <th>ham</th>\n",
       "      <td>9648</td>\n",
       "      <td>9648</td>\n",
       "      <td>C:/Users/MSI PC/lingspam_public/bare\\part8\\6-8...</td>\n",
       "      <td>1</td>\n",
       "      <td>9648</td>\n",
       "      <td>9590</td>\n",
       "      <td>= = = = = = = = = = = = = = = = = = = = = = = ...</td>\n",
       "      <td>4</td>\n",
       "    </tr>\n",
       "    <tr>\n",
       "      <th>spam</th>\n",
       "      <td>1924</td>\n",
       "      <td>1924</td>\n",
       "      <td>C:/Users/MSI PC/lingspam_public/lemm_stop\\part...</td>\n",
       "      <td>1</td>\n",
       "      <td>1924</td>\n",
       "      <td>1822</td>\n",
       "      <td>this be not spam ; you be receive this message...</td>\n",
       "      <td>5</td>\n",
       "    </tr>\n",
       "  </tbody>\n",
       "</table>\n",
       "</div>"
      ],
      "text/plain": [
       "      Unnamed: 0                                                            \\\n",
       "           count unique                                                top   \n",
       "label                                                                        \n",
       "ham         9648   9648  C:/Users/MSI PC/lingspam_public/bare\\part8\\6-8...   \n",
       "spam        1924   1924  C:/Users/MSI PC/lingspam_public/lemm_stop\\part...   \n",
       "\n",
       "           message                                                            \\\n",
       "      freq   count unique                                                top   \n",
       "label                                                                          \n",
       "ham      1    9648   9590  = = = = = = = = = = = = = = = = = = = = = = = ...   \n",
       "spam     1    1924   1822  this be not spam ; you be receive this message...   \n",
       "\n",
       "            \n",
       "      freq  \n",
       "label       \n",
       "ham      4  \n",
       "spam     5  "
      ]
     },
     "execution_count": 3,
     "metadata": {},
     "output_type": "execute_result"
    }
   ],
   "source": [
    "df.groupby('label').describe()"
   ]
  },
  {
   "cell_type": "code",
   "execution_count": 4,
   "metadata": {},
   "outputs": [
    {
     "data": {
      "text/html": [
       "<div>\n",
       "<style scoped>\n",
       "    .dataframe tbody tr th:only-of-type {\n",
       "        vertical-align: middle;\n",
       "    }\n",
       "\n",
       "    .dataframe tbody tr th {\n",
       "        vertical-align: top;\n",
       "    }\n",
       "\n",
       "    .dataframe thead th {\n",
       "        text-align: right;\n",
       "    }\n",
       "</style>\n",
       "<table border=\"1\" class=\"dataframe\">\n",
       "  <thead>\n",
       "    <tr style=\"text-align: right;\">\n",
       "      <th></th>\n",
       "      <th>Unnamed: 0</th>\n",
       "      <th>label</th>\n",
       "      <th>message</th>\n",
       "      <th>spam</th>\n",
       "    </tr>\n",
       "  </thead>\n",
       "  <tbody>\n",
       "    <tr>\n",
       "      <th>0</th>\n",
       "      <td>C:/Users/MSI PC/lingspam_public/bare\\part1\\3-1...</td>\n",
       "      <td>ham</td>\n",
       "      <td>&gt; date : sun , 15 dec 91 02 : 25 : 02 est &gt; fr...</td>\n",
       "      <td>0</td>\n",
       "    </tr>\n",
       "    <tr>\n",
       "      <th>1</th>\n",
       "      <td>C:/Users/MSI PC/lingspam_public/bare\\part1\\3-1...</td>\n",
       "      <td>ham</td>\n",
       "      <td>the discussion of s - &gt; np + np reminds me tha...</td>\n",
       "      <td>0</td>\n",
       "    </tr>\n",
       "    <tr>\n",
       "      <th>2</th>\n",
       "      <td>C:/Users/MSI PC/lingspam_public/bare\\part1\\3-1...</td>\n",
       "      <td>ham</td>\n",
       "      <td>. . . for me it 's much more restrictive than ...</td>\n",
       "      <td>0</td>\n",
       "    </tr>\n",
       "    <tr>\n",
       "      <th>3</th>\n",
       "      <td>C:/Users/MSI PC/lingspam_public/bare\\part1\\3-3...</td>\n",
       "      <td>ham</td>\n",
       "      <td>\" for the listserv \" international conference ...</td>\n",
       "      <td>0</td>\n",
       "    </tr>\n",
       "    <tr>\n",
       "      <th>4</th>\n",
       "      <td>C:/Users/MSI PC/lingspam_public/bare\\part1\\3-3...</td>\n",
       "      <td>ham</td>\n",
       "      <td>could anyone point me to any books and article...</td>\n",
       "      <td>0</td>\n",
       "    </tr>\n",
       "  </tbody>\n",
       "</table>\n",
       "</div>"
      ],
      "text/plain": [
       "                                          Unnamed: 0 label  \\\n",
       "0  C:/Users/MSI PC/lingspam_public/bare\\part1\\3-1...   ham   \n",
       "1  C:/Users/MSI PC/lingspam_public/bare\\part1\\3-1...   ham   \n",
       "2  C:/Users/MSI PC/lingspam_public/bare\\part1\\3-1...   ham   \n",
       "3  C:/Users/MSI PC/lingspam_public/bare\\part1\\3-3...   ham   \n",
       "4  C:/Users/MSI PC/lingspam_public/bare\\part1\\3-3...   ham   \n",
       "\n",
       "                                             message  spam  \n",
       "0  > date : sun , 15 dec 91 02 : 25 : 02 est > fr...     0  \n",
       "1  the discussion of s - > np + np reminds me tha...     0  \n",
       "2  . . . for me it 's much more restrictive than ...     0  \n",
       "3  \" for the listserv \" international conference ...     0  \n",
       "4  could anyone point me to any books and article...     0  "
      ]
     },
     "execution_count": 4,
     "metadata": {},
     "output_type": "execute_result"
    }
   ],
   "source": [
    "df['spam']=df['label'].apply(lambda x: 1 if x=='spam' else 0)\n",
    "df.head()"
   ]
  },
  {
   "cell_type": "code",
   "execution_count": 7,
   "metadata": {},
   "outputs": [],
   "source": [
    "from sklearn.model_selection import train_test_split\n",
    "x_train,x_test,y_train,y_test= train_test_split(df.message,df.spam\n",
    "                                               )"
   ]
  },
  {
   "cell_type": "code",
   "execution_count": 5,
   "metadata": {},
   "outputs": [],
   "source": [
    "from sklearn.feature_extraction.text import CountVectorizer\n",
    "v=CountVectorizer()"
   ]
  },
  {
   "cell_type": "code",
   "execution_count": 10,
   "metadata": {},
   "outputs": [
    {
     "data": {
      "text/plain": [
       "<8679x66567 sparse matrix of type '<class 'numpy.int64'>'\n",
       "\twith 1708869 stored elements in Compressed Sparse Row format>"
      ]
     },
     "execution_count": 10,
     "metadata": {},
     "output_type": "execute_result"
    }
   ],
   "source": [
    "x_train_count=v.fit_transform(x_train.values)\n",
    "x_train_count\n",
    "# x_train_count.toarray()[:2]"
   ]
  },
  {
   "cell_type": "code",
   "execution_count": 11,
   "metadata": {},
   "outputs": [
    {
     "data": {
      "text/plain": [
       "array([[ 0,  0,  0, ...,  0,  0,  0],\n",
       "       [ 0,  1,  0, ...,  0,  0,  0],\n",
       "       [ 0,  0,  0, ...,  0,  0,  0],\n",
       "       ...,\n",
       "       [21,  0,  0, ...,  0,  0,  0],\n",
       "       [ 0,  0,  0, ...,  0,  0,  0],\n",
       "       [ 0,  0,  0, ...,  0,  0,  0]], dtype=int64)"
      ]
     },
     "execution_count": 11,
     "metadata": {},
     "output_type": "execute_result"
    }
   ],
   "source": [
    "x_train_count.toarray()"
   ]
  },
  {
   "cell_type": "code",
   "execution_count": 6,
   "metadata": {},
   "outputs": [
    {
     "data": {
      "text/plain": [
       "array([[0, 0, 0, ..., 0, 0, 0],\n",
       "       [0, 0, 0, ..., 0, 0, 0]], dtype=int64)"
      ]
     },
     "execution_count": 6,
     "metadata": {},
     "output_type": "execute_result"
    }
   ],
   "source": [
    "# from sklearn.feature_extraction.text import CountVectorizer\n",
    "# v=CountVectorizer()\n",
    "# x_train_count=v.fit_transform(x_train.values)\n",
    "# x_train_count.toarray()[:2]"
   ]
  },
  {
   "cell_type": "code",
   "execution_count": 7,
   "metadata": {},
   "outputs": [
    {
     "data": {
      "text/plain": [
       "MultinomialNB()"
      ]
     },
     "execution_count": 7,
     "metadata": {},
     "output_type": "execute_result"
    }
   ],
   "source": [
    "from sklearn.naive_bayes import MultinomialNB\n",
    "model=MultinomialNB()\n",
    "model.fit(x_train_count,y_train)"
   ]
  },
  {
   "cell_type": "code",
   "execution_count": 8,
   "metadata": {},
   "outputs": [
    {
     "data": {
      "text/plain": [
       "0.9951607328033184"
      ]
     },
     "execution_count": 8,
     "metadata": {},
     "output_type": "execute_result"
    }
   ],
   "source": [
    "x_test_count = v.transform(x_test)\n",
    "model.score(x_test_count, y_test)"
   ]
  },
  {
   "cell_type": "code",
   "execution_count": 9,
   "metadata": {},
   "outputs": [],
   "source": [
    "y_predicted = model.predict(x_test_count)"
   ]
  },
  {
   "cell_type": "code",
   "execution_count": 10,
   "metadata": {},
   "outputs": [
    {
     "data": {
      "text/plain": [
       "array([[2409,   13],\n",
       "       [   1,  470]], dtype=int64)"
      ]
     },
     "execution_count": 10,
     "metadata": {},
     "output_type": "execute_result"
    }
   ],
   "source": [
    "from sklearn.metrics import confusion_matrix\n",
    "cm = confusion_matrix(y_test, y_predicted)\n",
    "cm"
   ]
  },
  {
   "cell_type": "code",
   "execution_count": 11,
   "metadata": {},
   "outputs": [
    {
     "data": {
      "text/plain": [
       "Text(24.0, 0.5, 'Truth')"
      ]
     },
     "execution_count": 11,
     "metadata": {},
     "output_type": "execute_result"
    },
    {
     "data": {
      "image/png": "[encoded data removed]",
      "text/plain": [
       "<Figure size 360x360 with 2 Axes>"
      ]
     },
     "metadata": {
      "needs_background": "light"
     },
     "output_type": "display_data"
    }
   ],
   "source": [
    "import seaborn as sn\n",
    "plt.figure(figsize = (5,5))\n",
    "sn.heatmap(cm, annot=True)\n",
    "plt.xlabel('Predicted')\n",
    "plt.ylabel('Truth')"
   ]
  }
 ],
 "metadata": {
  "kernelspec": {
   "display_name": "Python 3",
   "language": "python",
   "name": "python3"
  },
  "language_info": {
   "codemirror_mode": {
    "name": "ipython",
    "version": 3
   },
   "file_extension": ".py",
   "mimetype": "text/x-python",
   "name": "python",
   "nbconvert_exporter": "python",
   "pygments_lexer": "ipython3",
   "version": "3.8.5"
  }
 },
 "nbformat": 4,
 "nbformat_minor": 4
}
